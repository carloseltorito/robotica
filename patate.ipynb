{
 "cells": [
  {
   "cell_type": "code",
   "execution_count": 1,
   "id": "9891e2af",
   "metadata": {},
   "outputs": [
    {
     "name": "stdout",
     "output_type": "stream",
     "text": [
      "inserisci il tuo nome:KEVIN\n",
      "Ciao, KEVIN !\n"
     ]
    }
   ],
   "source": [
    "nome=input(\"inserisci il tuo nome:\")\n",
    "print(\"Ciao,\", nome ,\"!\")\n",
    "\n",
    "    "
   ]
  },
  {
   "cell_type": "code",
   "execution_count": 3,
   "id": "87557380",
   "metadata": {},
   "outputs": [
    {
     "name": "stdout",
     "output_type": "stream",
     "text": [
      "inserisci il tuo nome:KEVIN\n",
      "Ciao, KEVIN !\n",
      "Ciao, KEVIN !\n",
      "Ciao, KEVIN !\n",
      "Ciao, KEVIN !\n",
      "Ciao, KEVIN !\n"
     ]
    }
   ],
   "source": [
    "nome=input(\"inserisci il tuo nome:\")\n",
    "for i in range(5):\n",
    "   print(\"Ciao,\",nome,\"!\")"
   ]
  },
  {
   "cell_type": "code",
   "execution_count": 4,
   "id": "f62faf7e",
   "metadata": {},
   "outputs": [
    {
     "name": "stdout",
     "output_type": "stream",
     "text": [
      "inserisci un numero: 6\n",
      "inserisci un numero:2\n",
      "La somma è : 8\n"
     ]
    }
   ],
   "source": [
    "numero1 =int(input(\"inserisci un numero: \"))\n",
    "numero2 =int(input(\"inserisci un numero:\"))\n",
    "somma=numero1+numero2\n",
    "print(\"La somma è :\",somma)\n"
   ]
  },
  {
   "cell_type": "code",
   "execution_count": 5,
   "id": "7f60a89c",
   "metadata": {},
   "outputs": [
    {
     "name": "stdout",
     "output_type": "stream",
     "text": [
      "La sottrazione è: 4\n"
     ]
    }
   ],
   "source": [
    "sottrazione=numero1-numero2\n",
    "print(\"La sottrazione è:\",sottrazione)"
   ]
  },
  {
   "cell_type": "code",
   "execution_count": 6,
   "id": "fb0386e5",
   "metadata": {},
   "outputs": [
    {
     "name": "stdout",
     "output_type": "stream",
     "text": [
      "La moltiplicazione è: 12\n"
     ]
    }
   ],
   "source": [
    "moltiplicazione=numero1*numero2\n",
    "print(\"La moltiplicazione è:\",moltiplicazione)"
   ]
  },
  {
   "cell_type": "code",
   "execution_count": 8,
   "id": "f0206554",
   "metadata": {},
   "outputs": [
    {
     "name": "stdout",
     "output_type": "stream",
     "text": [
      "La divisione è: 3\n"
     ]
    }
   ],
   "source": [
    "divisione=numero1/numero2\n",
    "print(\"La divisione è:\",int(divisione))"
   ]
  },
  {
   "cell_type": "code",
   "execution_count": 9,
   "id": "48a1e89a",
   "metadata": {},
   "outputs": [
    {
     "name": "stdout",
     "output_type": "stream",
     "text": [
      "1\n",
      "2\n",
      "3\n",
      "4\n",
      "5\n",
      "6\n",
      "7\n",
      "8\n",
      "9\n",
      "10\n"
     ]
    }
   ],
   "source": [
    "for numero in range(1,11):\n",
    "    print(numero)"
   ]
  },
  {
   "cell_type": "code",
   "execution_count": 3,
   "id": "a0eb92a5",
   "metadata": {},
   "outputs": [
    {
     "name": "stdout",
     "output_type": "stream",
     "text": [
      "inseriscil'operazione(+,-,*,/):+\n",
      "inserisci il primo numero:10\n",
      "inserisciil secondo numero:5\n",
      "il risultato è: 15.0\n"
     ]
    }
   ],
   "source": [
    "operazione = input(\"inseriscil'operazione(+,-,*,/):\")\n",
    "numero1=float(input(\"inserisci il primo numero:\"))\n",
    "numero2=float(input(\"inserisciil secondo numero:\"))\n",
    "if operazione ==\"+\":\n",
    "    risultato=numero1+numero2\n",
    "elif operazione ==\"-\":\n",
    "    risultato=numero1-numero2\n",
    "elif operazione ==\"*\":\n",
    "    risultato = numero1*numero2\n",
    "elif operazione ==\"/\":\n",
    "    risultato =numero1/numero2\n",
    "else:\n",
    "    risultato=\"operazione non valida\"\n",
    "print(\"il risultato è:\",risultato)"
   ]
  },
  {
   "cell_type": "code",
   "execution_count": 5,
   "id": "ce7ef09a",
   "metadata": {},
   "outputs": [
    {
     "name": "stdout",
     "output_type": "stream",
     "text": [
      "inserisci un numero intero positivo:10\n",
      "5\n",
      "6\n",
      "7\n",
      "8\n",
      "9\n",
      "10\n"
     ]
    }
   ],
   "source": [
    "n =int(input(\"inserisci un numero intero positivo:\"))\n",
    "for numero in range (5,n+1):\n",
    " print(numero)\n"
   ]
  },
  {
   "cell_type": "code",
   "execution_count": null,
   "id": "8edf833c",
   "metadata": {},
   "outputs": [],
   "source": [
    "# Calcolatrice python con decisioni\n",
    "operazione=input(\"inserisci l'operazione (+,-,*,/)"
   ]
  },
  {
   "cell_type": "code",
   "execution_count": 10,
   "id": "ca3937fb",
   "metadata": {},
   "outputs": [
    {
     "name": "stdout",
     "output_type": "stream",
     "text": [
      "inserisci un numero intero positivo:5\n",
      "La somma dei primi 5 numeri interi è: 15\n"
     ]
    }
   ],
   "source": [
    " n =int(input(\"inserisci un numero intero positivo:\"))\n",
    "somma = 0\n",
    "\n",
    "for numero in range(1,n+1):\n",
    "    #somma - somma+numero\n",
    "     somma +=numero\n",
    "print(\"La somma dei primi\",n,\"numeri interi è:\", somma)\n"
   ]
  },
  {
   "cell_type": "code",
   "execution_count": 12,
   "id": "e1d1a304",
   "metadata": {},
   "outputs": [
    {
     "name": "stdout",
     "output_type": "stream",
     "text": [
      "inserisci un numero intero positivo:5\n",
      "Quadrati dei primi 5 numeri:\n",
      "il quadrato di 1 è 1\n",
      "il quadrato di 2 è 4\n",
      "il quadrato di 3 è 9\n",
      "il quadrato di 4 è 16\n",
      "il quadrato di 5 è 25\n"
     ]
    }
   ],
   "source": [
    "n=int(input(\"inserisci un numero intero positivo:\"))\n",
    "\n",
    "print(\"Quadrati dei primi\",n,\"numeri:\")\n",
    "\n",
    "for numero in range(1,n+1):\n",
    "    quadrato =numero ** 2\n",
    "    print(\"il quadrato di\",numero,\"è\",quadrato)\n",
    "    "
   ]
  },
  {
   "cell_type": "code",
   "execution_count": 18,
   "id": "ac330385",
   "metadata": {},
   "outputs": [
    {
     "name": "stdout",
     "output_type": "stream",
     "text": [
      "inserisci un numero:6\n",
      "6 inserisci un numero pari.\n"
     ]
    }
   ],
   "source": [
    "numero = int(input(\"inserisci un numero:\"))\n",
    "\n",
    "if numero % 2 == 0:\n",
    "    print(numero,\"inserisci un numero pari.\")\n",
    "else:\n",
    "    print(numero,\"é un numero dispari.\")\n"
   ]
  },
  {
   "cell_type": "code",
   "execution_count": 2,
   "id": "b1b84140",
   "metadata": {},
   "outputs": [
    {
     "name": "stdout",
     "output_type": "stream",
     "text": [
      "inserisci un numero intero positivo:100\n",
      "il fattoriale di 100 è: 93326215443944152681699238856266700490715968264381621468592963895217599993229915608941463976156518286253697920827223758251185210916864000000000000000000000000\n"
     ]
    }
   ],
   "source": [
    " n=int(input(\"inserisci un numero intero positivo:\")) \n",
    "fattoriale=1\n",
    "for numero in range(1,n+1):\n",
    "    #fattoriale=fattoriale*numero\n",
    "    fattoriale *=numero\n",
    "print(\"il fattoriale di\",n,\"è:\",fattoriale)\n"
   ]
  },
  {
   "cell_type": "code",
   "execution_count": 5,
   "id": "fd9bff28",
   "metadata": {},
   "outputs": [
    {
     "name": "stdout",
     "output_type": "stream",
     "text": [
      "quanti numeri vuoi inserire?3\n",
      "inserisci un numero:6\n",
      "inserisci un numero:15\n",
      "inserisci un numero:30\n",
      "la media dei numeri inseriti è: 17.0 la lista completa è: [6.0, 15.0, 30.0]\n"
     ]
    }
   ],
   "source": [
    "numeri = []\n",
    "\n",
    "n=int(input(\"quanti numeri vuoi inserire?\"))\n",
    "\n",
    "for i in range(n):\n",
    "    numero= float(input(\"inserisci un numero:\"))\n",
    "    numeri.append(numero)\n",
    "\n",
    "media=sum(numeri)/len(numeri)\n",
    "\n",
    "print(\"la media dei numeri inseriti è:\", media,\"la lista completa è:\", numeri)\n",
    "\n"
   ]
  },
  {
   "cell_type": "code",
   "execution_count": 9,
   "id": "e84cc57a",
   "metadata": {},
   "outputs": [
    {
     "name": "stdout",
     "output_type": "stream",
     "text": [
      "indovina il numero (1-100):10\n",
      "il numero è piú grande.\n",
      "indovina il numero (1-100):80\n",
      "il numero è più piccolo.\n",
      "indovina il numero (1-100):70\n",
      "il numero è più piccolo.\n",
      "indovina il numero (1-100):55\n",
      "il numero è più piccolo.\n",
      "indovina il numero (1-100):37\n",
      "il numero è più piccolo.\n",
      "indovina il numero (1-100):27\n",
      "il numero è più piccolo.\n",
      "indovina il numero (1-100):11\n",
      "il numero è piú grande.\n",
      "indovina il numero (1-100):20\n",
      "il numero è più piccolo.\n",
      "indovina il numero (1-100):19\n",
      "il numero è più piccolo.\n",
      "indovina il numero (1-100):18\n",
      "il numero è più piccolo.\n",
      "indovina il numero (1-100):17\n",
      "il numero è più piccolo.\n",
      "indovina il numero (1-100):16\n",
      "il numero è più piccolo.\n",
      "indovina il numero (1-100):12\n",
      "il numero è piú grande.\n",
      "indovina il numero (1-100):15\n",
      "bravo! hai indovinato il numero 15 in 14 tentativi.\n"
     ]
    }
   ],
   "source": [
    "import random\n",
    "\n",
    "numero_da_indovinare=random.randint(1,100)\n",
    "tentativi=0\n",
    "\n",
    "while True:\n",
    "    tentativo=int(input(\"indovina il numero (1-100):\"))\n",
    "    tentativi+=1\n",
    "    \n",
    "    if tentativo==numero_da_indovinare:\n",
    "        print(\"bravo! hai indovinato il numero\", numero_da_indovinare,\"in\", tentativi,\"tentativi.\")\n",
    "        break\n",
    "    elif tentativo <numero_da_indovinare:\n",
    "        print(\"il numero è piú grande.\")\n",
    "    else:\n",
    "        print(\"il numero è più piccolo.\")\n",
    "            "
   ]
  },
  {
   "cell_type": "code",
   "execution_count": 3,
   "id": "f345c3d0",
   "metadata": {},
   "outputs": [
    {
     "name": "stdout",
     "output_type": "stream",
     "text": [
      "benvenuti al gioco morra cinese!\n",
      "scegli la tua mossa (carta,forbici,sasso):sasso\n",
      "il computer ha scelto: carta\n",
      "hai perso\n"
     ]
    }
   ],
   "source": [
    "import random \n",
    "mosse=[\"carta\",\"forbice\",\"sasso\"]\n",
    "\n",
    "computer_mossa=random.choice(mosse)\n",
    "print(\"benvenuti al gioco morra cinese!\")\n",
    "scelta_giocatore=input(\"scegli la tua mossa (carta,forbici,sasso):\")\n",
    "if scelta_giocatore not in mosse:\n",
    "    print(\"mossa non permessa\")\n",
    "else:\n",
    "    print(\"il computer ha scelto:\",computer_mossa)\n",
    "    if scelta_giocatore == computer_mossa:\n",
    "        print(\"pareggio!\")\n",
    "    elif (scelta_giocatore == \"carta\" and computer_mossa == \"sasso\") or \\\n",
    "         (scelta_giocatore == \"forbici\" and computer_mossa == \"carta\")or\\\n",
    "         (scelta_giocatore == \"sasso\" and computer_mossa == \"forbici\"):\n",
    "        print(\"hai vinto!\")\n",
    "    else:\n",
    "        print(\"hai perso\")\n",
    "    "
   ]
  },
  {
   "cell_type": "code",
   "execution_count": 4,
   "id": "c6ade79b",
   "metadata": {},
   "outputs": [
    {
     "name": "stdout",
     "output_type": "stream",
     "text": [
      "inserisci un numero intero: 2\n",
      "il fattoriale di 2 è 2\n"
     ]
    }
   ],
   "source": [
    "n=int(input(\"inserisci un numero intero: \"))\n",
    "fattoriale=1\n",
    "if n<0:\n",
    "    print(\"numero negativo\")\n",
    "elif n==0:\n",
    "    print(\"il fattoriale di zero è 1 per definizione\")\n",
    "else:\n",
    "    for numero in range(1,n+1):\n",
    "        fattoriale*=numero\n",
    "print(f\"il fattoriale di {n} è {fattoriale}\")\n"
   ]
  },
  {
   "cell_type": "code",
   "execution_count": 5,
   "id": "3b4caa50",
   "metadata": {},
   "outputs": [
    {
     "name": "stdout",
     "output_type": "stream",
     "text": [
      "inserisci un numero intero positivo N: 8\n",
      "La somma dei primi 8 numeri pari è 72\n"
     ]
    }
   ],
   "source": [
    "# Chiedere all'utente di inserire un numero intero positivo N\n",
    "N = int(input(\"inserisci un numero intero positivo N: \"))\n",
    "\n",
    "# Inizializzare la somma a zero\n",
    "somma = 0\n",
    "\n",
    "# Calcolare la somma dei primi N numeri pari\n",
    "for numero in range(2,2 * N+1,2):\n",
    "     somma += numero\n",
    "\n",
    "print(f\"La somma dei primi {N} numeri pari è {somma}\")\n",
    "\n",
    "\n"
   ]
  },
  {
   "cell_type": "code",
   "execution_count": 6,
   "id": "3af45c70",
   "metadata": {},
   "outputs": [
    {
     "name": "stdout",
     "output_type": "stream",
     "text": [
      "inserisci un numero intero positivo N: 6\n",
      "[2, 4, 6, 8, 10, 12]\n"
     ]
    }
   ],
   "source": [
    "# Chiedere all'utente di inserire un numero intero positivo N\n",
    "N = int(input(\"inserisci un numero intero positivo N: \"))\n",
    "lista =[]\n",
    "\n",
    "\n",
    " \n",
    "\n",
    "# Calcolare la somma dei primi N numeri pari\n",
    "for numero in range(2,2 * N+1,2):\n",
    "     lista.append(numero)\n",
    "        \n",
    "\n",
    "print(lista)\n",
    "\n"
   ]
  },
  {
   "cell_type": "code",
   "execution_count": 8,
   "id": "81933a27",
   "metadata": {},
   "outputs": [
    {
     "name": "stdout",
     "output_type": "stream",
     "text": [
      "inserisci una frase e una parola ciao Mi chiamo Carlo\n",
      "nella frase inserita ci sono 9  vocali. \n"
     ]
    }
   ],
   "source": [
    "# Chiedi all'utente di inserire una frase e una parola\n",
    "frase = input(\"inserisci una frase e una parola \").lower()  #Converti tutto in minuscolo per semplificare \n",
    "# inizializzare il contatore delle vocali\n",
    "conteggio_vocali = 0\n",
    "    \n",
    "# definisci le vocali da cercare \n",
    "vocali = \"aeiou\"\n",
    "\n",
    "# scansiona ogni carattere nella frase \n",
    "for carattere in frase:\n",
    "    # Verifica se il carattere è una vocale\n",
    "    if carattere in vocali:\n",
    "        conteggio_vocali += 1\n",
    "# stampa il conteggio delle vocali \n",
    "print(f\"nella frase inserita ci sono {conteggio_vocali}  vocali. \")\n",
    "\n"
   ]
  },
  {
   "cell_type": "code",
   "execution_count": 1,
   "id": "9ef39ccd",
   "metadata": {},
   "outputs": [
    {
     "name": "stdout",
     "output_type": "stream",
     "text": [
      "inserisce popolazione iniziale:1000000\n",
      "inserisci numero di anni da simulare:2\n",
      "inserisci tasso natalità: 0.5\n",
      "inserisci tasso mortalità 3.0\n",
      "Anno 1): Popolazione - 975000\n",
      "Anno 2): Popolazione - 950625\n",
      "Simulazione completata.\n"
     ]
    }
   ],
   "source": [
    "# inizializza la popolazione e gli anni \n",
    "popolazione=int(input(\"inserisce popolazione iniziale:\"))\n",
    "anni = int(input(\"inserisci numero di anni da simulare:\"))\n",
    "# Tassodi natalità e tasso di mortalità (percentuale annuale)\n",
    "tasso_natalita = float(input(\"inserisci tasso natalità: \"))\n",
    "tasso_mortalita= float(input(\"inserisci tasso mortalità \"))\n",
    "\n",
    "# Simulazione della crescita della popolazione\n",
    "for anno in range(anni):\n",
    "    nascite =(popolazione * tasso_natalita)/ 100\n",
    "    morti=(popolazione * tasso_mortalita)/ 100\n",
    "    popolazione +=(nascite - morti )\n",
    "    \n",
    "    print(f\"Anno {anno+1}): Popolazione - {int(popolazione)}\")\n",
    "print(\"Simulazione completata.\")\n"
   ]
  },
  {
   "cell_type": "code",
   "execution_count": 2,
   "id": "4e5c1547",
   "metadata": {},
   "outputs": [
    {
     "name": "stdout",
     "output_type": "stream",
     "text": [
      "oggi è il giorno:  18 10 2023 ore: 12 27 05\n"
     ]
    }
   ],
   "source": [
    "import datetime\n",
    "\n",
    "today = datetime.datetime.today()\n",
    "print(f\"oggi è il giorno: {today: %d %m %Y} ore: {today:%H %M %S}\")\n"
   ]
  },
  {
   "cell_type": "code",
   "execution_count": null,
   "id": "f6c56288",
   "metadata": {},
   "outputs": [],
   "source": [
    "print(\" Benvenuto nel Convertitore di unità di Misura!\")\n",
    "scelta = input(\"Cosa Desideri convertire? (metri/piedi/chilogrammi/libbre) :) . lower()\n",
    "               \n",
    "if scelta == \"metri\" :\n",
    "Valore = float(input(\"inserisci il valore in metri: \"))\n",
    "risultato= Valore * 3.28084\n",
    "print(f\"{valore} metri corrispondono a  {risultato} piedi.\"))\n",
    "\n",
    "elif scelta == \"piedi\":\n",
    "    valore= float(input(\"inserisci il valore in piedi: \"))\n",
    "    risultato = valore/ 3.28084\n",
    "    print( f\"{valore} piedi corrispondono a {risultato}metri.\")\n",
    "    \n",
    "        \n",
    "            \n",
    "          \n",
    "        "
   ]
  },
  {
   "cell_type": "code",
   "execution_count": 6,
   "id": "69622dae",
   "metadata": {},
   "outputs": [],
   "source": [
    "def fibonacci(n):\n",
    "    fib_series=[0,1]\n",
    "\n",
    "    while len(fib_series)<n:\n",
    "        fib_series.append(fib_series[-1] + fib_series[-2])\n",
    "    \n",
    "    return fib_series\n"
   ]
  },
  {
   "cell_type": "code",
   "execution_count": 7,
   "id": "47464e77",
   "metadata": {},
   "outputs": [
    {
     "data": {
      "text/plain": [
       "[0, 1, 1, 2, 3, 5, 8, 13, 21, 34]"
      ]
     },
     "execution_count": 7,
     "metadata": {},
     "output_type": "execute_result"
    }
   ],
   "source": [
    " fibonacci(10)"
   ]
  },
  {
   "cell_type": "code",
   "execution_count": null,
   "id": "a7df113c",
   "metadata": {},
   "outputs": [],
   "source": [
    "n = int(input(\"inserisci il numero  di termini \")"
   ]
  },
  {
   "cell_type": "code",
   "execution_count": 8,
   "id": "c60b8add",
   "metadata": {},
   "outputs": [],
   "source": [
    "import math \n",
    "def calcola_area_cerchio(raggio):\n",
    "    return math.pi * (raggio ** 2)\n",
    "\n",
    "def calcola_area_rettangolo (base,altezza):\n",
    "    return base * altezza\n",
    "\n",
    "def calcola_area_triangolo(base,altezza):\n",
    "    return (base * altezza) /2"
   ]
  },
  {
   "cell_type": "code",
   "execution_count": 9,
   "id": "cebf7feb",
   "metadata": {},
   "outputs": [
    {
     "data": {
      "text/plain": [
       "314.1592653589793"
      ]
     },
     "execution_count": 9,
     "metadata": {},
     "output_type": "execute_result"
    }
   ],
   "source": [
    "calcola_area_cerchio(10)"
   ]
  },
  {
   "cell_type": "code",
   "execution_count": null,
   "id": "4afd7301",
   "metadata": {},
   "outputs": [],
   "source": [
    "print(\"benvenuto nella calcolatrice di aree!\")\n",
    "\n",
    "scelta= input(\"vuoi calcolare l'area di un cerchio (c) , rettangolo(r) o triangolo (t)? \".lower()\n",
    "            \n",
    "if scelta == 'c':\n",
    "   raggio= float(input(\"inserisci il raggio del cerchio: \"))\n",
    "    area = calcola_area_cerchio(raggio)\n",
    "    print(f\"l'area del cercchio è {area:.2f}\")\n",
    "elif scelta == 'r':\n",
    "    base= float(input(\"inserisci la base del rettangolo: \"))\n",
    "            "
   ]
  },
  {
   "cell_type": "code",
   "execution_count": 4,
   "id": "26bf1479",
   "metadata": {},
   "outputs": [],
   "source": [
    "def calcola_interessi(importo_iniziale, tasso_interesse , periodi_investimento):\n",
    "    importo_finale = importo_iniziale * (1 + tasso_interesse/100) ** periodi_investimento\n",
    "    return importo_finale"
   ]
  },
  {
   "cell_type": "code",
   "execution_count": 5,
   "id": "f698b26a",
   "metadata": {},
   "outputs": [
    {
     "name": "stdout",
     "output_type": "stream",
     "text": [
      "benvenuto nel calcolatore  interessi\n",
      "inserisci l'importo iniziale: 222\n",
      "inserisci il tasso di interesse  annuale (%): 2\n",
      "inserisci il periodo di investimento (anni ): 3\n",
      "l'importo finale dopo 3 anni è di 235.59 euro.\n"
     ]
    }
   ],
   "source": [
    "print(\"benvenuto nel calcolatore  interessi\")\n",
    "\n",
    "importo = float(input(\"inserisci l'importo iniziale: \"))\n",
    "tasso=float(input(\"inserisci il tasso di interesse  annuale (%): \"))\n",
    "periodo=int(input(\"inserisci il periodo di investimento (anni ): \"))\n",
    "\n",
    "importo_finale=calcola_interessi(importo,tasso,periodo)\n",
    "\n",
    "print(f\"l'importo finale dopo {periodo} anni è di {importo_finale:.2f} euro.\")\n"
   ]
  },
  {
   "cell_type": "code",
   "execution_count": 6,
   "id": "150b9948",
   "metadata": {},
   "outputs": [
    {
     "data": {
      "text/plain": [
       "14802442.849183444"
      ]
     },
     "execution_count": 6,
     "metadata": {},
     "output_type": "execute_result"
    }
   ],
   "source": [
    " calcola_interessi(10000000,4,10) "
   ]
  },
  {
   "cell_type": "code",
   "execution_count": 1,
   "id": "5462fd02",
   "metadata": {},
   "outputs": [],
   "source": [
    "def forza_gravitazionale(m1,m2,r):\n",
    "    #costante gravitazionale\n",
    "    G=6.67430e-11 #(m/kg) ^2\n",
    "    \n",
    "    #calcolo della forza gravitazionale \n",
    "    F=(G* m1 * m2) / (r ** 2)\n",
    "    \n",
    "    return F"
   ]
  },
  {
   "cell_type": "code",
   "execution_count": 2,
   "id": "8030306e",
   "metadata": {},
   "outputs": [
    {
     "name": "stdout",
     "output_type": "stream",
     "text": [
      "Forza gravitazionale tra la terra e la luna: 1.9804922390990566e+20 newton\n"
     ]
    }
   ],
   "source": [
    "# esempio di utilizzo \n",
    "massa_terra= 5.972e24 #kg\n",
    "massa_luna = 7.342e22 #kg \n",
    "distanza_terra_luna=384400000 #metri\n",
    "\n",
    "forza= forza_gravitazionale(massa_terra,massa_luna,distanza_terra_luna)\n",
    "print(f\"Forza gravitazionale tra la terra e la luna: {forza} newton\")\n"
   ]
  },
  {
   "cell_type": "code",
   "execution_count": 25,
   "id": "032c6133",
   "metadata": {},
   "outputs": [],
   "source": [
    "from itertools import permutations\n",
    "k=0\n",
    "\n",
    "def trova_anagrammi(parola):\n",
    "    anagrammi =[\"\". join(p) for p in permutations (parola)]\n",
    "    return anagrammi \n",
    "#.join(p)serve a unire le stringhe di testo"
   ]
  },
  {
   "cell_type": "code",
   "execution_count": 26,
   "id": "9812c155",
   "metadata": {},
   "outputs": [
    {
     "name": "stdout",
     "output_type": "stream",
     "text": [
      "Benvenuto nel Risolutore di Anagrammi! \n",
      "inserisci una parola: ciao\n",
      "cioa\n",
      "caio\n",
      "caoi\n",
      "coia\n",
      "coai\n",
      "icao\n",
      "icoa\n",
      "iaco\n",
      "iaoc\n",
      "ioca\n",
      "ioac\n",
      "acio\n",
      "acoi\n",
      "aico\n",
      "aioc\n",
      "aoci\n",
      "aoic\n",
      "ocia\n",
      "ocai\n",
      "oica\n",
      "oiac\n",
      "oaci\n",
      "oaic\n",
      " Gli anagrammi di 'ciao' sono:'23' \n"
     ]
    }
   ],
   "source": [
    "   print(\"Benvenuto nel Risolutore di Anagrammi! \")\n",
    "\n",
    "parola_input = input(\"inserisci una parola: \").strip().lower()\n",
    "\n",
    "if len(parola_input) <2:\n",
    "    print(\"inserisci una parola con almeno 2 caratteri.\")\n",
    "else:\n",
    "    anagrammi=trova_anagrammi(parola_input)\n",
    "    \n",
    "    for elemento in anagrammi:\n",
    "        if elemento !=parola_input:\n",
    "            k+=1\n",
    "            print(elemento)\n",
    "    print(f\" Gli anagrammi di '{parola_input}' sono:'{k}' \")"
   ]
  },
  {
   "cell_type": "code",
   "execution_count": null,
   "id": "934bea70",
   "metadata": {},
   "outputs": [],
   "source": [
    "#dizionari"
   ]
  },
  {
   "cell_type": "code",
   "execution_count": null,
   "id": "e7fd5c90",
   "metadata": {},
   "outputs": [],
   "source": [
    "# Definizione dei tassi di cambio \n",
    "\n",
    "tassi_di_cambio = {\n",
    "  \"dollari\":1.0,\n",
    "   \"euro\"  : 0.85,\n",
    "    \"yen\"  : 110.41,\n",
    "    #Aggiungi altre valute e tassi di cambio se necessario\n",
    "}\n",
    "\n",
    "#Chiedi all'utente di inserire l'importo, la valuta di partenza e la valuta di destinazione \n",
    "importo= float(input(\"Inserisci l'importo da convertire:\"))\n",
    "valuta_di_partenza = input(\"Inserisci la valuta di partenza: \").lower()\n",
    "valuta_destinazione= input(\"Inserisci la valuta di destinazione: \").lower()\n",
    "\n",
    "#Verifica  se le valute sono nel dizionario dei tassi di cambio \n",
    "if Valuta_di_partenza in tassi"
   ]
  },
  {
   "cell_type": "code",
   "execution_count": 9,
   "id": "1a883d66",
   "metadata": {},
   "outputs": [],
   "source": [
    "import math\n",
    "def calcola_area_cerchio(raggio):\n",
    "    return math.pi*(raggio**2)\n",
    "def calcola_area_rettangolo(base,altezza):\n",
    "    return base*altezza\n",
    "def calcola_area_triangolo(base,altezza):\n",
    "    return (base*altezza)/2"
   ]
  },
  {
   "cell_type": "code",
   "execution_count": 37,
   "id": "c0b38efd",
   "metadata": {},
   "outputs": [
    {
     "name": "stdout",
     "output_type": "stream",
     "text": [
      "inserisci una frase:ciao ragazzi zio bricco\n",
      "z:3\n"
     ]
    }
   ],
   "source": [
    "frase =input(\"inserisci una frase:\")\n",
    "\n",
    "frase=frase.lower()\n",
    "\n",
    "alfabeto='abcdefghijklmnopqrstuvwxyz'\n",
    "\n",
    "conteggio_lettere={}\n",
    "\n",
    "for lettera in alfabeto:\n",
    "    conteggio=frase.count(lettera)\n",
    "if conteggio >0:\n",
    "    conteggio_lettere[lettera]=conteggio\n",
    "\n",
    "for lettera,conteggio in conteggio_lettere.items():\n",
    "    print (f\"{lettera}:{conteggio}\")"
   ]
  },
  {
   "cell_type": "code",
   "execution_count": 3,
   "id": "6f5058e0",
   "metadata": {},
   "outputs": [
    {
     "ename": "SyntaxError",
     "evalue": "invalid syntax (871817293.py, line 37)",
     "output_type": "error",
     "traceback": [
      "\u001b[0;36m  Cell \u001b[0;32mIn[3], line 37\u001b[0;36m\u001b[0m\n\u001b[0;31m    elif scelta==\"2\":\u001b[0m\n\u001b[0m    ^\u001b[0m\n\u001b[0;31mSyntaxError\u001b[0m\u001b[0;31m:\u001b[0m invalid syntax\n"
     ]
    }
   ],
   "source": [
    "cibo_calorie={ \n",
    "    \"pizza\":285,\n",
    "    \"hamburger\":250,\n",
    "    \"insalata\" :100,\n",
    "     \"pollo arrosto\": 335,\n",
    "     \"yogurt\": 100,\n",
    "}\n",
    "\n",
    "def calorie_consumate(cibo,quantita):\n",
    "    if cibo not in cibo_calorie.keys():\n",
    "        print(\"cibo non presente\")\n",
    "    elif cibo in cibo_calorie.keys():\n",
    "        calorie_per_100g =cibo_calorie[cibo]\n",
    "        calorie_totali=(calorie_per_100g/100)*quantita\n",
    "        return calorie_totali\n",
    "def main():\n",
    "    cibo_consumato=[]\n",
    "    \n",
    "    while True:\n",
    "        print(\"menù:\")\n",
    "        print(\"\\n 1.Aggiungi cibo consumato\")\n",
    "        print(\"\\n 2.Calcola calorie totali\")\n",
    "        print(\"\\n 3.Esci.\")\n",
    "        \n",
    "        scelta=input(\"Scegli un'opzione:\")\n",
    "        \n",
    "        if scelta==\"1\":\n",
    "            print(\"\\n\")\n",
    "            \n",
    "            for key,value in cibo_calorie.items():\n",
    "                print(key,value)\n",
    "                 \n",
    "            cibo=input(\"inserisci il cibo consumato : \")\n",
    "            quantita=float(input(\"inserisci la quantita (in grammi):\"))\n",
    "            cibo_consumato.append((cibo,quantita))\n",
    "            \n",
    "            elif scelta==\"2\":\n",
    "                calorie_totali=sum(calorie_consumate(c,q)for c,q in cibo_consumato)\n",
    "                print(f\"\\nCalorie totali consumate:{calorie_totali}calorie\")\n",
    "        \n",
    "            elif scelta==\"3\":\n",
    "                break\n",
    "            else:\n",
    "                print(\"\\nScelta non valida.\")\n",
    "if __name__==\"__main__\":\n",
    "    main()\n",
    "            \n",
    "            "
   ]
  },
  {
   "cell_type": "code",
   "execution_count": null,
   "id": "0ad37a6b",
   "metadata": {},
   "outputs": [],
   "source": []
  }
 ],
 "metadata": {
  "kernelspec": {
   "display_name": "Python 3 (ipykernel)",
   "language": "python",
   "name": "python3"
  },
  "language_info": {
   "codemirror_mode": {
    "name": "ipython",
    "version": 3
   },
   "file_extension": ".py",
   "mimetype": "text/x-python",
   "name": "python",
   "nbconvert_exporter": "python",
   "pygments_lexer": "ipython3",
   "version": "3.11.4"
  }
 },
 "nbformat": 4,
 "nbformat_minor": 5
}
